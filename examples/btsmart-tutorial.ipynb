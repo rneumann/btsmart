{
 "cells": [
  {
   "cell_type": "markdown",
   "id": "8b231208",
   "metadata": {},
   "source": [
    "# How to use the BT-Smart-Controller in Python\n",
    "\n",
    "This notebook shows you, how to use the btsmart library to easily access the Fischertechnik bt-smart controller.\n",
    "\n",
    "## The Scenario\n",
    "\n",
    "In order to play with the controller, we build the following simple scenario:\n",
    "\n",
    "A button, a lamp and a motor elements are attached to the bt-smart controller (button on input1, lamp on output1 and motor on output2).\n",
    "\n",
    "When the button is pushed (contact closed), the lamp should be turned on and the motor shoul run for a short time.\n",
    "When the button is released (contact open), the lamp should be turned off.\n",
    "\n",
    "Basically, that is all we need to also build mor complex scenarios such a a light barrier for cars, triggering a traffic light or opening a gate. but we will get back to that later on.\n"
   ]
  },
  {
   "cell_type": "markdown",
   "id": "10e869d2",
   "metadata": {},
   "source": [
    "## Install the required libraries\n",
    "\n",
    "The first thing we need to do is make sure that the required btsmart library and the according dependncies are in stalled. You can use the following code to install the library."
   ]
  },
  {
   "cell_type": "code",
   "execution_count": null,
   "id": "76427ebd",
   "metadata": {},
   "outputs": [],
   "source": [
    "!pip install -i https://test.pypi.org/simple/ btsmart==0.1.6"
   ]
  },
  {
   "cell_type": "markdown",
   "id": "b5103e0d",
   "metadata": {},
   "source": [
    "## Start coding\n",
    "\n",
    "Now that we have everything in place, we can start to write the program.\n",
    "\n",
    "### 1. Import the required modules and classes\n",
    "\n",
    "First, we have to import the libraries and required classes.\n",
    "These are:\n",
    "- asyncio\n",
    "  this library contains everything we need to handle asynchronuous programs, which means\n",
    "  programs that are not purely sequences, but may run in parallel (e.g. a light may blink while a motor turns)\n",
    "- btsmart\n",
    "  this is the library containing the btsmart-related classes, which are:\n",
    "  - BTSmartController\n",
    "    this class helps us to connect and manipulate the btsmart controller. It allows us to measure or react on \n",
    "    input value changes or to set output values.\n",
    "    However, this class is still pretty \"technical\", so we use some additionaly classes...\n",
    "  - Button\n",
    "    this class represents a button (switch) attached to an input of the controller. It triggers events when the \n",
    "    button is pressed or when it is released, so we can use it to simply react on these events.\n",
    "  - Dimmer\n",
    "    this class basically sets the output level to a value between 0 and 100 in order to regulate the light \n",
    "    intensity, given that the output is attached to a lamp. It also provides means for blinking.\n",
    "  - MotorXM\n",
    "    this class provides functions to start, stop or run the attached motor for a certain amount of time with\n",
    "    a given rpm value rather than using the values specified by the underlying BLE-protocol used by the controller\n",
    "    "
   ]
  },
  {
   "cell_type": "code",
   "execution_count": null,
   "id": "82743fcf",
   "metadata": {},
   "outputs": [],
   "source": [
    "# we need asyncio\n",
    "import asyncio\n",
    "\n",
    "# from the btsmart library, we need to access the controller class\n",
    "from btsmart import BTSmartController, LEDMode, InputMode\n",
    "\n",
    "# and as described in the scenario, we use some electronis parts\n",
    "from btsmart import Button, Dimmer, MotorXM"
   ]
  },
  {
   "cell_type": "markdown",
   "id": "35774376",
   "metadata": {},
   "source": [
    "### 2. Create objects that represent the electronical parts\n",
    "\n",
    "In this step, we create objects that represent the electronical objects attached to our physical scenario."
   ]
  },
  {
   "cell_type": "code",
   "execution_count": null,
   "id": "d16c0c31",
   "metadata": {},
   "outputs": [],
   "source": [
    "btn = Button()\n",
    "dim = Dimmer()\n",
    "motor = MotorXM()"
   ]
  },
  {
   "cell_type": "markdown",
   "id": "53d88850",
   "metadata": {},
   "source": [
    "### 3. Define the logic\n",
    "\n",
    "As described above we want to react on input events. We do this by defining two functions\n",
    "- 'button_pressed' should be called when the according input levels on the controller change in a way that\n",
    "  we \"close\" the cirquit meaning,  the resistance goes down.\n",
    "  In this case, we print out a message and start two actions in parallel (turn on the light and run the motor)\n",
    "- 'button_released' should be called when the according input level changes in the opposite direction, meaning\n",
    "  we open the cirquit.\n",
    "  In this case, we show a message and turn off the light.\n",
    "\n",
    "After defining the functions, we attach them to the button-object 'btn'"
   ]
  },
  {
   "cell_type": "code",
   "execution_count": null,
   "id": "a289459d",
   "metadata": {},
   "outputs": [],
   "source": [
    "async def button_pressed():\n",
    "    #print(\"Button pressed\")\n",
    "    await asyncio.gather(                    # we start two different things at once...\n",
    "        btSmart.set_led(LEDMode.BLUE),       # - we change the led color to blue\n",
    "        dim.blink(time=0.05,count=3),        # - we turn on the light (50 means full output)\n",
    "        motor.run_at(speed=150, time=0.5)    # - we let the motor run for half a second at 50 rpm\n",
    "    )                                        # ... and wait until both operations are done\n",
    "\n",
    "async def button_released():\n",
    "    #print(\"Button released\")\n",
    "    await btSmart.set_led(LEDMode.ORANGE)   # change to orange light\n",
    "\n",
    "btn.on_press(button_pressed)\n",
    "btn.on_release(button_released)\n"
   ]
  },
  {
   "cell_type": "markdown",
   "id": "ca0b4643",
   "metadata": {},
   "source": [
    "## Run the program\n",
    "\n",
    "Until now the controller is not linked to our code and we need to connect to it using bluetooth.\n",
    "For this, when you run the following code, you need to press the \"connect\"-button on the BT-Smart."
   ]
  },
  {
   "cell_type": "code",
   "execution_count": null,
   "id": "37c7ab48",
   "metadata": {},
   "outputs": [],
   "source": [
    "btSmart: BTSmartController = None\n",
    "try:\n",
    "    btSmart = await BTSmartController.discover()\n",
    "except Exception as e:\n",
    "    print(e)\n",
    "    btSmart = None\n",
    "\n",
    "if btSmart is None:\n",
    "    print(\"No controller found - please press the connect button on the controller before running this code\")"
   ]
  },
  {
   "cell_type": "markdown",
   "id": "293c495b",
   "metadata": {},
   "source": [
    "If we connected to the controller, we can attach our logical elements to it and that should do the magic."
   ]
  },
  {
   "cell_type": "code",
   "execution_count": null,
   "id": "067e70b7",
   "metadata": {},
   "outputs": [],
   "source": [
    "btn.attach(btSmart, 1)   # we attach the 'button' to input 1 of the controller\n",
    "dim.attach(btSmart, 1)   # we attach the 'dimmer' to output 1 of the controller\n",
    "motor.attach(btSmart, 2) # we attach the 'motor'  to output 2 of the controller\n",
    "\n",
    "await btSmart.connect()  # connect to the controller and let it do the work\n"
   ]
  },
  {
   "cell_type": "markdown",
   "id": "9289a031",
   "metadata": {},
   "source": [
    "Thats's it - try to figure out what happens when you change the functions above and have fun."
   ]
  },
  {
   "cell_type": "code",
   "execution_count": null,
   "id": "913b22a1",
   "metadata": {},
   "outputs": [],
   "source": [
    "print(await btSmart.get_input_value(1, InputMode.RESISTANCE))"
   ]
  },
  {
   "cell_type": "code",
   "execution_count": null,
   "id": "d6ca1afe",
   "metadata": {},
   "outputs": [],
   "source": []
  }
 ],
 "metadata": {
  "kernelspec": {
   "display_name": "Python 3 (ipykernel)",
   "language": "python",
   "name": "python3"
  },
  "language_info": {
   "codemirror_mode": {
    "name": "ipython",
    "version": 3
   },
   "file_extension": ".py",
   "mimetype": "text/x-python",
   "name": "python",
   "nbconvert_exporter": "python",
   "pygments_lexer": "ipython3",
   "version": "3.10.5"
  },
  "vscode": {
   "interpreter": {
    "hash": "a47a23ddb2b7053ef85fed27b9c4f095c8e20f9195f2e80e1aab4bac17216bb6"
   }
  }
 },
 "nbformat": 4,
 "nbformat_minor": 5
}
